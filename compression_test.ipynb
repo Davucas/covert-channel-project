{
 "cells": [
  {
   "cell_type": "code",
   "execution_count": null,
   "metadata": {},
   "outputs": [],
   "source": [
    "from pathlib import Path\n",
    "import subprocess\n",
    "import os\n",
    "import zipfile\n",
    "import hashlib\n",
    "\n",
    "current_working_dir = Path.cwd()\n",
    "steghide_images_dir = current_working_dir / Path('steghide_images')  #Combine the paths. This is using operator overloading for the / operator\n",
    "zipped_images_dir = current_working_dir / Path('zipped_images')\n",
    "extracted_images_dir = current_working_dir / Path('extracted_images')\n",
    "\n",
    "zipped_images_dir.mkdir(parents=True, exist_ok=True)\n",
    "print(\"Created the zipped images directory\")\n",
    "extracted_images_dir.mkdir(parents=True, exist_ok=True)\n",
    "print(\"Created the extracted images directory\")"
   ]
  },
  {
   "cell_type": "code",
   "execution_count": null,
   "metadata": {},
   "outputs": [],
   "source": [
    "def calculate_file_hash(file_name):\n",
    "    hash_obj = hashlib.sha256()\n",
    "    with open(file_name, 'rb') as f:\n",
    "        for chunk in iter(lambda: f.read(4096), b\"\"):\n",
    "            hash_obj.update(chunk)\n",
    "    return hash_obj.hexdigest()"
   ]
  },
  {
   "cell_type": "code",
   "execution_count": 13,
   "metadata": {},
   "outputs": [
    {
     "name": "stdout",
     "output_type": "stream",
     "text": [
      "These are the image directories inside of: \n",
      "/home/rafad900/covert-channel-project/steghide_images/human\n",
      "/home/rafad900/covert-channel-project/steghide_images/bike\n",
      "/home/rafad900/covert-channel-project/steghide_images/horses\n",
      "/home/rafad900/covert-channel-project/steghide_images/dogs\n",
      "/home/rafad900/covert-channel-project/steghide_images/cats\n",
      "/home/rafad900/covert-channel-project/steghide_images/cars\n",
      "Zipping this image file: rider-105.bmp\n",
      "This is the extracted filename:  /home/rafad900/covert-channel-project/extracted_images/rider-105.bmp\n"
     ]
    },
    {
     "ename": "IsADirectoryError",
     "evalue": "[Errno 21] Is a directory: '/home/rafad900/covert-channel-project/extracted_images/rider-105.bmp'",
     "output_type": "error",
     "traceback": [
      "\u001b[0;31m---------------------------------------------------------------------------\u001b[0m",
      "\u001b[0;31mIsADirectoryError\u001b[0m                         Traceback (most recent call last)",
      "\u001b[0;32m/tmp/ipykernel_5828/1000727342.py\u001b[0m in \u001b[0;36m<module>\u001b[0;34m\u001b[0m\n\u001b[1;32m     19\u001b[0m             \u001b[0mzip_ref\u001b[0m\u001b[0;34m.\u001b[0m\u001b[0mextractall\u001b[0m\u001b[0;34m(\u001b[0m\u001b[0mextracted_filename\u001b[0m\u001b[0;34m)\u001b[0m\u001b[0;34m\u001b[0m\u001b[0;34m\u001b[0m\u001b[0m\n\u001b[1;32m     20\u001b[0m \u001b[0;34m\u001b[0m\u001b[0m\n\u001b[0;32m---> 21\u001b[0;31m         \u001b[0;32mif\u001b[0m \u001b[0mcalculate_file_hash\u001b[0m\u001b[0;34m(\u001b[0m\u001b[0moriginal_filename\u001b[0m\u001b[0;34m)\u001b[0m \u001b[0;34m!=\u001b[0m \u001b[0mcalculate_file_hash\u001b[0m\u001b[0;34m(\u001b[0m\u001b[0mextracted_filename\u001b[0m\u001b[0;34m)\u001b[0m\u001b[0;34m:\u001b[0m\u001b[0;34m\u001b[0m\u001b[0;34m\u001b[0m\u001b[0m\n\u001b[0m\u001b[1;32m     22\u001b[0m             \u001b[0mprint\u001b[0m\u001b[0;34m(\u001b[0m\u001b[0;34mf\"This file is not the same before and after compression: {image_file}\"\u001b[0m\u001b[0;34m)\u001b[0m\u001b[0;34m\u001b[0m\u001b[0;34m\u001b[0m\u001b[0m\n",
      "\u001b[0;32m/tmp/ipykernel_5828/1671165629.py\u001b[0m in \u001b[0;36mcalculate_file_hash\u001b[0;34m(file_name)\u001b[0m\n\u001b[1;32m      3\u001b[0m \u001b[0;32mdef\u001b[0m \u001b[0mcalculate_file_hash\u001b[0m\u001b[0;34m(\u001b[0m\u001b[0mfile_name\u001b[0m\u001b[0;34m)\u001b[0m\u001b[0;34m:\u001b[0m\u001b[0;34m\u001b[0m\u001b[0;34m\u001b[0m\u001b[0m\n\u001b[1;32m      4\u001b[0m     \u001b[0mhash_obj\u001b[0m \u001b[0;34m=\u001b[0m \u001b[0mhashlib\u001b[0m\u001b[0;34m.\u001b[0m\u001b[0msha256\u001b[0m\u001b[0;34m(\u001b[0m\u001b[0;34m)\u001b[0m\u001b[0;34m\u001b[0m\u001b[0;34m\u001b[0m\u001b[0m\n\u001b[0;32m----> 5\u001b[0;31m     \u001b[0;32mwith\u001b[0m \u001b[0mopen\u001b[0m\u001b[0;34m(\u001b[0m\u001b[0mfile_name\u001b[0m\u001b[0;34m,\u001b[0m \u001b[0;34m'rb'\u001b[0m\u001b[0;34m)\u001b[0m \u001b[0;32mas\u001b[0m \u001b[0mf\u001b[0m\u001b[0;34m:\u001b[0m\u001b[0;34m\u001b[0m\u001b[0;34m\u001b[0m\u001b[0m\n\u001b[0m\u001b[1;32m      6\u001b[0m         \u001b[0;32mfor\u001b[0m \u001b[0mchunk\u001b[0m \u001b[0;32min\u001b[0m \u001b[0miter\u001b[0m\u001b[0;34m(\u001b[0m\u001b[0;32mlambda\u001b[0m\u001b[0;34m:\u001b[0m \u001b[0mf\u001b[0m\u001b[0;34m.\u001b[0m\u001b[0mread\u001b[0m\u001b[0;34m(\u001b[0m\u001b[0;36m4096\u001b[0m\u001b[0;34m)\u001b[0m\u001b[0;34m,\u001b[0m \u001b[0;34mb\"\"\u001b[0m\u001b[0;34m)\u001b[0m\u001b[0;34m:\u001b[0m\u001b[0;34m\u001b[0m\u001b[0;34m\u001b[0m\u001b[0m\n\u001b[1;32m      7\u001b[0m             \u001b[0mhash_obj\u001b[0m\u001b[0;34m.\u001b[0m\u001b[0mupdate\u001b[0m\u001b[0;34m(\u001b[0m\u001b[0mchunk\u001b[0m\u001b[0;34m)\u001b[0m\u001b[0;34m\u001b[0m\u001b[0;34m\u001b[0m\u001b[0m\n",
      "\u001b[0;31mIsADirectoryError\u001b[0m: [Errno 21] Is a directory: '/home/rafad900/covert-channel-project/extracted_images/rider-105.bmp'"
     ]
    }
   ],
   "source": [
    "image_directories = []\n",
    "for image_directory in os.listdir(steghide_images_dir):\n",
    "    if not os.path.isfile(image_directory):\n",
    "        image_directories.append(steghide_images_dir / Path(image_directory))\n",
    "                \n",
    "print(\"These are the image directories inside of: \" )\n",
    "[print(directory) for directory in image_directories]\n",
    "\n",
    "for image_directory in image_directories:\n",
    "    for image_file in os.listdir(image_directory)[1:2]:\n",
    "        print(\"Zipping this image file: \" + image_file)\n",
    "        \n",
    "        original_filename = str(image_directory / Path(image_file))\n",
    "        with zipfile.ZipFile(str(zipped_images_dir / Path(image_file).with_suffix('.zip')), 'w') as zip_ref:\n",
    "            zip_ref.write(original_filename)\n",
    "        extracted_filename = str(extracted_images_dir / Path(image_file))\n",
    "        print(\"This is the extracted filename: \", extracted_filename)\n",
    "        with zipfile.ZipFile(str(zipped_images_dir / Path(f'{image_file}.zip')), 'r') as zip_ref:\n",
    "            zip_ref.extractall(extracted_filename)\n",
    "            \n",
    "        if calculate_file_hash(original_filename) != calculate_file_hash(extracted_filename):\n",
    "            print(f\"This file is not the same before and after compression: {image_file}\")\n"
   ]
  },
  {
   "cell_type": "code",
   "execution_count": null,
   "metadata": {},
   "outputs": [],
   "source": []
  }
 ],
 "metadata": {
  "kernelspec": {
   "display_name": "base",
   "language": "python",
   "name": "python3"
  },
  "language_info": {
   "codemirror_mode": {
    "name": "ipython",
    "version": 3
   },
   "file_extension": ".py",
   "mimetype": "text/x-python",
   "name": "python",
   "nbconvert_exporter": "python",
   "pygments_lexer": "ipython3",
   "version": "3.10.12"
  }
 },
 "nbformat": 4,
 "nbformat_minor": 2
}
