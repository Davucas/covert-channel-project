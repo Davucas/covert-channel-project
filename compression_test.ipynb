{
 "cells": [
  {
   "cell_type": "code",
   "execution_count": 41,
   "metadata": {},
   "outputs": [
    {
     "name": "stdout",
     "output_type": "stream",
     "text": [
      "Created the zipped images directory\n",
      "Created the extracted images directory\n",
      "Created the experiment results directory\n"
     ]
    }
   ],

   "source": [
    "from pathlib import Path\n",
    "import subprocess\n",
    "import os\n",
    "import zipfile\n",
    "import hashlib\n",
    "\n",
    "current_working_dir = Path.cwd()\n",
    "steghide_images_dir = current_working_dir / Path('steghide_images')  #Combine the paths. This is using operator overloading for the / operator\n",
    "zipped_images_dir = current_working_dir / Path('zipped_images')\n",
    "extracted_images_dir = current_working_dir / Path('extracted_images')\n",
    "experiment_results_dir = current_working_dir / Path('experiments_results')\n",
    "\n",
    "zipped_images_dir.mkdir(parents=True, exist_ok=True)\n",
    "print(\"Created the zipped images directory\")\n",
    "extracted_images_dir.mkdir(parents=True, exist_ok=True)\n",
    "print(\"Created the extracted images directory\")\n",
    "experiment_results_dir.mkdir(parents=True, exist_ok=True)\n",
    "print(\"Created the experiment results directory\")"
   ]
  },
  {
   "cell_type": "code",
   "execution_count": 42,
   "metadata": {},
   "outputs": [],
   "source": [
    "\n",
    "def calculate_file_hash(file_name):\n",
    "    hash_obj = hashlib.sha256()\n",
    "    with open(file_name, 'rb') as f:\n",
    "        for chunk in iter(lambda: f.read(4096), b\"\"):\n",
    "            hash_obj.update(chunk)\n",
    "    return hash_obj.hexdigest()"
   ]
  },
  {
   "cell_type": "code",
   "execution_count": 44,
   "metadata": {},
   "outputs": [
    {
     "name": "stdout",
     "output_type": "stream",
     "text": [
      "These are the image directories inside of: [PosixPath('/home/rafad900/covert-channel-project/steghide_images/cars'), PosixPath('/home/rafad900/covert-channel-project/steghide_images/dogs'), PosixPath('/home/rafad900/covert-channel-project/steghide_images/bike'), PosixPath('/home/rafad900/covert-channel-project/steghide_images/horses'), PosixPath('/home/rafad900/covert-channel-project/steghide_images/cats'), PosixPath('/home/rafad900/covert-channel-project/steghide_images/human')]\n"
     ]
    }
   ],
   "source": [
    "image_directories = []\n",
    "\n",
    "for directory_item in os.listdir(steghide_images_dir):\n",
    "    if not os.path.isfile(directory_item):\n",
    "        image_directories.append(steghide_images_dir / Path(directory_item))\n",
    "        \n",
    "print(\"These are the image directories inside of: \" + str(image_directories))\n",
    "\n",
    "zipped_test_results_file = open(str(experiment_results_dir / Path('zipped_test_results.txt')), 'w')\n",
    "\n",
    "\n",
    "for image_directory in image_directories:\n",
    "    for image_file in os.listdir(image_directory):\n",
    "        original_filename = str(image_directory / Path(image_file))\n",
    "        zipped_filename = str(zipped_images_dir / Path(image_file).with_suffix('.zip'))\n",
    "        extracted_filename = str(extracted_images_dir / Path(image_file))\n",
    "        \n",
    "        # print(\"Zipping this image file: \" + image_file)\n",
    "        # print(\"This the original_filename: \" + original_filename)\n",
    "        # print(\"This is the zipped filename: \" + zipped_filename)\n",
    "        # print(\"This is the extracted filename: \" + extracted_filename)\n",
    "\n",
    "        with zipfile.ZipFile(zipped_filename, 'w') as zip_ref:\n",
    "            zip_ref.write(original_filename, arcname=original_filename)\n",
    "        with zipfile.ZipFile(zipped_filename, 'r') as zip_ref:\n",
    "            file_data = zip_ref.read(original_filename[1:])\n",
    "            with open(extracted_filename, 'wb') as new_extracted_file:\n",
    "                new_extracted_file.write(file_data)\n",
    "        \n",
    "        original_file_hash = calculate_file_hash(original_filename)\n",
    "        extracted_file_hash = calculate_file_hash(extracted_filename)\n",
    "        \n",
    "        zipped_test_results_file.write(f\"File: {image_file}\\n\")\n",
    "        zipped_test_results_file.write(f\"Original hash: {original_file_hash}\\n\")\n",
    "        zipped_test_results_file.write(f\"Extract  hash: {extracted_file_hash}\\n\")\n",
    "        if original_file_hash != extracted_file_hash:\n",
    "            zipped_test_results_file.write(f\"This file is not the same before and after compression: {image_file}\\n\")\n",
    "        else:\n",
    "            zipped_test_results_file.write(\"The images are matching\\n\")\n",
    "        zipped_test_results_file.write(\"\\n\")\n",
    "\n",
    "        \n",
    "        "
   ]
  },
  {
   "cell_type": "code",
   "execution_count": null,
   "metadata": {},
   "outputs": [],
   "source": []
  }
 ],
 "metadata": {
  "kernelspec": {
   "display_name": "base",
   "language": "python",
   "name": "python3"
  },
  "language_info": {
   "codemirror_mode": {
    "name": "ipython",
    "version": 3
   },
   "file_extension": ".py",
   "mimetype": "text/x-python",
   "name": "python",
   "nbconvert_exporter": "python",
   "pygments_lexer": "ipython3",
   "version": "3.10.12"
  }
 },
 "nbformat": 4,
 "nbformat_minor": 2
}
