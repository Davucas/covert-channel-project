{
 "cells": [
  {
   "cell_type": "code",
   "execution_count": 39,
   "metadata": {},
   "outputs": [
    {
     "name": "stdout",
     "output_type": "stream",
     "text": [
      "Created the zipped images directory\n",
      "Created the extracted images directory\n"
     ]
    }
   ],
   "source": [
    "from pathlib import Path\n",
    "import subprocess\n",
    "import os\n",
    "import zipfile\n",
    "import hashlib\n",
    "\n",
    "current_working_dir = Path.cwd()\n",
    "steghide_images_dir = current_working_dir / Path('steghide_images')  #Combine the paths. This is using operator overloading for the / operator\n",
    "zipped_images_dir = current_working_dir / Path('zipped_images')\n",
    "extracted_images_dir = current_working_dir / Path('extracted_images')\n",
    "\n",
    "zipped_images_dir.mkdir(parents=True, exist_ok=True)\n",
    "print(\"Created the zipped images directory\")\n",
    "extracted_images_dir.mkdir(parents=True, exist_ok=True)\n",
    "print(\"Created the extracted images directory\")"
   ]
  },
  {
   "cell_type": "code",
   "execution_count": 38,
   "metadata": {},
   "outputs": [
    {
     "name": "stdout",
     "output_type": "stream",
     "text": [
      "Original hash: cebd7ddc70c1412739ac90a80042b4afc0aeb066cb16546c2c8426d59463984f\n"
     ]
    }
   ],
   "source": [
    "image_directories = []\n",
    "\n",
    "def calculate_file_hash(file_name):\n",
    "    hash_obj = hashlib.sha256()\n",
    "    with open(file_name, 'rb') as f:\n",
    "        for chunk in iter(lambda: f.read(4096), b\"\"):\n",
    "            hash_obj.update(chunk)\n",
    "    return hash_obj.hexdigest()"
   ]
  },
  {
   "cell_type": "code",
   "execution_count": 40,
   "metadata": {},
   "outputs": [
    {
     "name": "stdout",
     "output_type": "stream",
     "text": [
      "These are the image directories inside of: [PosixPath('/home/rafad900/covert-channel-project/steghide_images/cars'), PosixPath('/home/rafad900/covert-channel-project/steghide_images/dogs'), PosixPath('/home/rafad900/covert-channel-project/steghide_images/bike'), PosixPath('/home/rafad900/covert-channel-project/steghide_images/horses'), PosixPath('/home/rafad900/covert-channel-project/steghide_images/cats'), PosixPath('/home/rafad900/covert-channel-project/steghide_images/human')]\n",
      "Zipping this image file: carsgraz_222.bmp\n"
     ]
    },
    {
     "ename": "IsADirectoryError",
     "evalue": "[Errno 21] Is a directory: '/home/rafad900/covert-channel-project/extracted_images/carsgraz_222.bmp'",
     "output_type": "error",
     "traceback": [
      "\u001b[0;31m---------------------------------------------------------------------------\u001b[0m",
      "\u001b[0;31mIsADirectoryError\u001b[0m                         Traceback (most recent call last)",
      "Cell \u001b[0;32mIn[40], line 18\u001b[0m\n\u001b[1;32m     15\u001b[0m \u001b[38;5;28;01mwith\u001b[39;00m zipfile\u001b[38;5;241m.\u001b[39mZipFile(\u001b[38;5;28mstr\u001b[39m(zipped_images_dir \u001b[38;5;241m/\u001b[39m Path(\u001b[38;5;124mf\u001b[39m\u001b[38;5;124m'\u001b[39m\u001b[38;5;132;01m{\u001b[39;00mimage_file\u001b[38;5;132;01m}\u001b[39;00m\u001b[38;5;124m_zipped.zip\u001b[39m\u001b[38;5;124m'\u001b[39m)), \u001b[38;5;124m'\u001b[39m\u001b[38;5;124mr\u001b[39m\u001b[38;5;124m'\u001b[39m) \u001b[38;5;28;01mas\u001b[39;00m zip_ref:\n\u001b[1;32m     16\u001b[0m     zip_ref\u001b[38;5;241m.\u001b[39mextractall(extracted_filename)\n\u001b[0;32m---> 18\u001b[0m \u001b[38;5;28;01mif\u001b[39;00m calculate_file_hash(original_filename) \u001b[38;5;241m!=\u001b[39m calculate_file_hash(extracted_filename):\n\u001b[1;32m     19\u001b[0m     \u001b[38;5;28mprint\u001b[39m(\u001b[38;5;124mf\u001b[39m\u001b[38;5;124m\"\u001b[39m\u001b[38;5;124mThis file is not the same before and after compression: \u001b[39m\u001b[38;5;132;01m{\u001b[39;00mimage_file\u001b[38;5;132;01m}\u001b[39;00m\u001b[38;5;124m\"\u001b[39m)\n",
      "Cell \u001b[0;32mIn[38], line 5\u001b[0m, in \u001b[0;36mcalculate_file_hash\u001b[0;34m(file_name)\u001b[0m\n\u001b[1;32m      3\u001b[0m \u001b[38;5;28;01mdef\u001b[39;00m \u001b[38;5;21mcalculate_file_hash\u001b[39m(file_name):\n\u001b[1;32m      4\u001b[0m     hash_obj \u001b[38;5;241m=\u001b[39m hashlib\u001b[38;5;241m.\u001b[39msha256()\n\u001b[0;32m----> 5\u001b[0m     \u001b[38;5;28;01mwith\u001b[39;00m \u001b[38;5;28mopen\u001b[39m(file_name, \u001b[38;5;124m'\u001b[39m\u001b[38;5;124mrb\u001b[39m\u001b[38;5;124m'\u001b[39m) \u001b[38;5;28;01mas\u001b[39;00m f:\n\u001b[1;32m      6\u001b[0m         \u001b[38;5;28;01mfor\u001b[39;00m chunk \u001b[38;5;129;01min\u001b[39;00m \u001b[38;5;28miter\u001b[39m(\u001b[38;5;28;01mlambda\u001b[39;00m: f\u001b[38;5;241m.\u001b[39mread(\u001b[38;5;241m4096\u001b[39m), \u001b[38;5;124mb\u001b[39m\u001b[38;5;124m\"\u001b[39m\u001b[38;5;124m\"\u001b[39m):\n\u001b[1;32m      7\u001b[0m             hash_obj\u001b[38;5;241m.\u001b[39mupdate(chunk)\n",
      "File \u001b[0;32m~/miniconda3/lib/python3.11/site-packages/IPython/core/interactiveshell.py:310\u001b[0m, in \u001b[0;36m_modified_open\u001b[0;34m(file, *args, **kwargs)\u001b[0m\n\u001b[1;32m    303\u001b[0m \u001b[38;5;28;01mif\u001b[39;00m file \u001b[38;5;129;01min\u001b[39;00m {\u001b[38;5;241m0\u001b[39m, \u001b[38;5;241m1\u001b[39m, \u001b[38;5;241m2\u001b[39m}:\n\u001b[1;32m    304\u001b[0m     \u001b[38;5;28;01mraise\u001b[39;00m \u001b[38;5;167;01mValueError\u001b[39;00m(\n\u001b[1;32m    305\u001b[0m         \u001b[38;5;124mf\u001b[39m\u001b[38;5;124m\"\u001b[39m\u001b[38;5;124mIPython won\u001b[39m\u001b[38;5;124m'\u001b[39m\u001b[38;5;124mt let you open fd=\u001b[39m\u001b[38;5;132;01m{\u001b[39;00mfile\u001b[38;5;132;01m}\u001b[39;00m\u001b[38;5;124m by default \u001b[39m\u001b[38;5;124m\"\u001b[39m\n\u001b[1;32m    306\u001b[0m         \u001b[38;5;124m\"\u001b[39m\u001b[38;5;124mas it is likely to crash IPython. If you know what you are doing, \u001b[39m\u001b[38;5;124m\"\u001b[39m\n\u001b[1;32m    307\u001b[0m         \u001b[38;5;124m\"\u001b[39m\u001b[38;5;124myou can use builtins\u001b[39m\u001b[38;5;124m'\u001b[39m\u001b[38;5;124m open.\u001b[39m\u001b[38;5;124m\"\u001b[39m\n\u001b[1;32m    308\u001b[0m     )\n\u001b[0;32m--> 310\u001b[0m \u001b[38;5;28;01mreturn\u001b[39;00m io_open(file, \u001b[38;5;241m*\u001b[39margs, \u001b[38;5;241m*\u001b[39m\u001b[38;5;241m*\u001b[39mkwargs)\n",
      "\u001b[0;31mIsADirectoryError\u001b[0m: [Errno 21] Is a directory: '/home/rafad900/covert-channel-project/extracted_images/carsgraz_222.bmp'"
     ]
    }
   ],
   "source": [
    "\n",
    "for directory_item in os.listdir(steghide_images_dir):\n",
    "    if not os.path.isfile(image_directory):\n",
    "        image_directories.append(steghide_images_dir / Path(directory_item))\n",
    "        \n",
    "print(\"These are the image directories inside of: \" + str(image_directories))\n",
    "\n",
    "for image_directory in image_directories:\n",
    "    for image_file in os.listdir(image_directory)[1:2]:\n",
    "        print(\"Zipping this image file: \" + image_file)\n",
    "        \n",
    "        original_filename = str(image_directory / Path(image_file))\n",
    "        with zipfile.ZipFile(str(zipped_images_dir / Path(f'{image_file}.zip')), 'w') as zip_ref:\n",
    "            zip_ref.write(original_filename)\n",
    "        extracted_filename = str(extracted_images_dir) / Path(image_file)\n",
    "        with zipfile.ZipFile(str(zipped_images_dir / Path(f'{image_file}_zipped.zip')), 'r') as zip_ref:\n",
    "            zip_ref.extractall(extracted_filename)\n",
    "            \n",
    "        if calculate_file_hash(original_filename) != calculate_file_hash(extracted_filename):\n",
    "            print(f\"This file is not the same before and after compression: {image_file}\")\n",
    "        \n",
    "        "
   ]
  },
  {
   "cell_type": "code",
   "execution_count": null,
   "metadata": {},
   "outputs": [],
   "source": []
  }
 ],
 "metadata": {
  "kernelspec": {
   "display_name": "base",
   "language": "python",
   "name": "python3"
  },
  "language_info": {
   "codemirror_mode": {
    "name": "ipython",
    "version": 3
   },
   "file_extension": ".py",
   "mimetype": "text/x-python",
   "name": "python",
   "nbconvert_exporter": "python",
   "pygments_lexer": "ipython3",
   "version": "3.11.5"
  }
 },
 "nbformat": 4,
 "nbformat_minor": 2
}
